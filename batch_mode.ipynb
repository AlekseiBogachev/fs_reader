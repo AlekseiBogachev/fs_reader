{
 "cells": [
  {
   "cell_type": "code",
   "execution_count": null,
   "id": "8583c60d",
   "metadata": {},
   "outputs": [],
   "source": [
    "from ExperimentalDataReader import DataReader\n",
    "from matplotlib import pyplot as plt\n",
    "from os import listdir\n",
    "import pandas as pd\n",
    "import regex as re\n",
    "\n",
    "%matplotlib inline"
   ]
  },
  {
   "cell_type": "code",
   "execution_count": null,
   "id": "4eab21d2",
   "metadata": {},
   "outputs": [],
   "source": [
    "def get_meta_data(datasets_folder='datasets/raw_data/', integral_time=3.0, time_between_meas=3.5):\n",
    "    \n",
    "    def get_file_names(datasets_folder=datasets_folder):\n",
    "        files=pd.DataFrame({'file_names': listdir(datasets_folder)})\n",
    "\n",
    "        data_files = files.loc[~files.file_names.str.startswith('Температура')]\n",
    "        temperature_files = files.loc[files.file_names.str.startswith('Температура')].reset_index()\n",
    "\n",
    "        files = pd.DataFrame({'data_files': data_files.file_names,\n",
    "                              'temperature_files': temperature_files.file_names\n",
    "                             })\n",
    "\n",
    "        return files\n",
    "    \n",
    "    def get_params(files, integral_time, time_between_meas):\n",
    "        files['patterns'] = files.data_files.str.split('_')\n",
    "        \n",
    "        get_spc_name = lambda x: ' '.join(x[:2])\n",
    "        files['specimen_name'] = files.patterns.apply(get_spc_name)\n",
    "        \n",
    "        get_bs = lambda x: int(x[3].strip('пФ'))\n",
    "        files['bs'] = files.patterns.apply(get_bs)\n",
    "        \n",
    "        get_u1 = lambda x: float(re.findall(string=x[5], pattern=r'[+-]?\\d+\\.?\\d*')[0])\n",
    "        files['u1'] = files.patterns.apply(get_u1)\n",
    "        \n",
    "        get_ur = lambda x: float(re.findall(string=x[5], pattern=r'[+-]?\\d+\\.?\\d*')[-1])\n",
    "        files['ur'] = files.patterns.apply(get_ur)\n",
    "        \n",
    "        get_ls = lambda x: int(x[6].strip('мВ'))\n",
    "        files['ls'] = files.patterns.apply(get_ls)\n",
    "        \n",
    "        get_f_pulse = lambda x: float(x[7].strip('мкс'))\n",
    "        files['f_pulse'] = files.patterns.apply(get_f_pulse)\n",
    "        \n",
    "        files['time_between_meas'] = time_between_meas\n",
    "        files['integral_time'] = integral_time\n",
    "        \n",
    "        return files.drop('patterns', axis='columns')\n",
    "    \n",
    "    files = get_file_names()\n",
    "    return get_params(files, integral_time, time_between_meas)"
   ]
  },
  {
   "cell_type": "code",
   "execution_count": null,
   "id": "ee380983",
   "metadata": {},
   "outputs": [],
   "source": [
    "def prepare_data(meta_data, folder='datasets/raw_data'):\n",
    "    data_reader = DataReader()\n",
    "    \n",
    "    folder = folder\n",
    "    d_file_name = folder + '/' + meta_data.data_files\n",
    "    t_file_name = folder + '/' + meta_data.temperature_files\n",
    "\n",
    "    data_reader.read_from_d_t(d_file_name=d_file_name, t_file_name=t_file_name)\n",
    "\n",
    "    data_reader.set_bs(meta_data.bs)\n",
    "\n",
    "    data_reader.set_ls(meta_data.ls)\n",
    "\n",
    "    data_reader.set_f_pulse(meta_data.f_pulse)\n",
    "\n",
    "    data_reader.compute_dlts_pf()\n",
    "\n",
    "    data_reader.set_specimen_name(meta_data.specimen_name)\n",
    "\n",
    "    data_reader.set_u1(meta_data.u1)\n",
    "\n",
    "    data_reader.set_ur(meta_data.ur)\n",
    "\n",
    "    data_reader.set_time_between_meas(meta_data.time_between_meas)\n",
    "\n",
    "    data_reader.set_integral_time(meta_data.integral_time)\n",
    "    \n",
    "    return data_reader"
   ]
  },
  {
   "cell_type": "code",
   "execution_count": null,
   "id": "3d30e2d7",
   "metadata": {},
   "outputs": [],
   "source": [
    "meta_data = get_meta_data()"
   ]
  },
  {
   "cell_type": "code",
   "execution_count": null,
   "id": "fa6c7fa3",
   "metadata": {
    "scrolled": false
   },
   "outputs": [],
   "source": [
    "data_readers = meta_data.apply(prepare_data, axis='columns')\n",
    "\n",
    "folder = 'datasets'\n",
    "\n",
    "for i, data_reader in enumerate(data_readers):\n",
    "    data_reader.to_csv(folder + '/' + meta_data.data_files[i] + '.csv')\n",
    "    \n",
    "    data_reader.get_plot()\n",
    "    plt.savefig(folder + '/' + meta_data.data_files[i] + '.jpg', bbox_inches='tight')\n",
    "    plt.savefig(folder + '/' + meta_data.data_files[i] + '.pdf', bbox_inches='tight')\n",
    "    \n",
    "    plt.close('all')\n",
    "    print(f'№{i}\\t{meta_data.data_files[i]}\\t- OK')"
   ]
  }
 ],
 "metadata": {
  "kernelspec": {
   "display_name": "Python 3 (ipykernel)",
   "language": "python",
   "name": "python3"
  },
  "language_info": {
   "codemirror_mode": {
    "name": "ipython",
    "version": 3
   },
   "file_extension": ".py",
   "mimetype": "text/x-python",
   "name": "python",
   "nbconvert_exporter": "python",
   "pygments_lexer": "ipython3",
   "version": "3.9.12"
  }
 },
 "nbformat": 4,
 "nbformat_minor": 5
}
